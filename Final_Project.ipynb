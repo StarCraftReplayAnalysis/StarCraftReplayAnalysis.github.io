{
  "nbformat": 4,
  "nbformat_minor": 0,
  "metadata": {
    "colab": {
      "provenance": []
    },
    "kernelspec": {
      "name": "python3",
      "display_name": "Python 3"
    },
    "language_info": {
      "name": "python"
    }
  },
  "cells": [
    {
      "cell_type": "markdown",
      "source": [
        "### Background\n",
        "In this final project, data on SC2 replays is analyzed. SC2 is a PVP RTS that pits players against each other. The matches between players are based on MMR, which sorts players into various leagues (from Bronze 1 to GM). This project seeks to gain insight into the players' attributes and hopes to predict a player's league based on the game data.\n",
        "### Feature Cleaning\n",
        "Pull the data into a df and take a rough look at the data. Most of the features seem to follow some very clean distributions."
      ],
      "metadata": {
        "id": "062WiDrLUju4"
      }
    },
    {
      "cell_type": "code",
      "execution_count": null,
      "metadata": {
        "id": "6k_nJ0qyRu8B",
        "colab": {
          "base_uri": "https://localhost:8080/",
          "height": 300
        },
        "outputId": "2ebf3feb-d557-42eb-fe28-f5485e7a9c1b"
      },
      "outputs": [
        {
          "output_type": "execute_result",
          "data": {
            "text/plain": [
              "   GameID  LeagueIndex   Age  HoursPerWeek  TotalHours       APM  \\\n",
              "0      52            5  27.0          10.0      3000.0  143.7180   \n",
              "1      55            5  23.0          10.0      5000.0  129.2322   \n",
              "2      56            4  30.0          10.0       200.0   69.9612   \n",
              "3      57            3  19.0          20.0       400.0  107.6016   \n",
              "4      58            3  32.0          10.0       500.0  122.8908   \n",
              "\n",
              "   SelectByHotkeys  AssignToHotkeys  UniqueHotkeys  MinimapAttacks  ...  \\\n",
              "0         0.003515         0.000220       0.000055        0.000110  ...   \n",
              "1         0.003304         0.000259       0.000069        0.000294  ...   \n",
              "2         0.001101         0.000336       0.000042        0.000294  ...   \n",
              "3         0.001034         0.000213       0.000011        0.000053  ...   \n",
              "4         0.001136         0.000327       0.000039        0.000000  ...   \n",
              "\n",
              "   NumberOfPACs  GapBetweenPACs  ActionLatency  ActionsInPAC  \\\n",
              "0      0.004849         32.6677        40.8673        4.7508   \n",
              "1      0.004307         32.9194        42.3454        4.8434   \n",
              "2      0.002926         44.6475        75.3548        4.0430   \n",
              "3      0.003783         29.2203        53.7352        4.9155   \n",
              "4      0.002368         22.6885        62.0813        9.3740   \n",
              "\n",
              "   TotalMapExplored  WorkersMade  UniqueUnitsMade  ComplexUnitsMade  \\\n",
              "0          0.000220     0.001397         0.000047               0.0   \n",
              "1          0.000381     0.001193         0.000087               0.0   \n",
              "2          0.000231     0.000745         0.000063               0.0   \n",
              "3          0.000202     0.000426         0.000075               0.0   \n",
              "4          0.000289     0.001174         0.000077               0.0   \n",
              "\n",
              "   ComplexAbilityUsed  MaxTimeStamp  \n",
              "0            0.000000        127448  \n",
              "1            0.000208         57812  \n",
              "2            0.000189         95360  \n",
              "3            0.000384         93852  \n",
              "4            0.000019         51936  \n",
              "\n",
              "[5 rows x 21 columns]"
            ],
            "text/html": [
              "\n",
              "  <div id=\"df-0cba127c-83a1-46a3-81ce-988020b02bcc\">\n",
              "    <div class=\"colab-df-container\">\n",
              "      <div>\n",
              "<style scoped>\n",
              "    .dataframe tbody tr th:only-of-type {\n",
              "        vertical-align: middle;\n",
              "    }\n",
              "\n",
              "    .dataframe tbody tr th {\n",
              "        vertical-align: top;\n",
              "    }\n",
              "\n",
              "    .dataframe thead th {\n",
              "        text-align: right;\n",
              "    }\n",
              "</style>\n",
              "<table border=\"1\" class=\"dataframe\">\n",
              "  <thead>\n",
              "    <tr style=\"text-align: right;\">\n",
              "      <th></th>\n",
              "      <th>GameID</th>\n",
              "      <th>LeagueIndex</th>\n",
              "      <th>Age</th>\n",
              "      <th>HoursPerWeek</th>\n",
              "      <th>TotalHours</th>\n",
              "      <th>APM</th>\n",
              "      <th>SelectByHotkeys</th>\n",
              "      <th>AssignToHotkeys</th>\n",
              "      <th>UniqueHotkeys</th>\n",
              "      <th>MinimapAttacks</th>\n",
              "      <th>...</th>\n",
              "      <th>NumberOfPACs</th>\n",
              "      <th>GapBetweenPACs</th>\n",
              "      <th>ActionLatency</th>\n",
              "      <th>ActionsInPAC</th>\n",
              "      <th>TotalMapExplored</th>\n",
              "      <th>WorkersMade</th>\n",
              "      <th>UniqueUnitsMade</th>\n",
              "      <th>ComplexUnitsMade</th>\n",
              "      <th>ComplexAbilityUsed</th>\n",
              "      <th>MaxTimeStamp</th>\n",
              "    </tr>\n",
              "  </thead>\n",
              "  <tbody>\n",
              "    <tr>\n",
              "      <th>0</th>\n",
              "      <td>52</td>\n",
              "      <td>5</td>\n",
              "      <td>27.0</td>\n",
              "      <td>10.0</td>\n",
              "      <td>3000.0</td>\n",
              "      <td>143.7180</td>\n",
              "      <td>0.003515</td>\n",
              "      <td>0.000220</td>\n",
              "      <td>0.000055</td>\n",
              "      <td>0.000110</td>\n",
              "      <td>...</td>\n",
              "      <td>0.004849</td>\n",
              "      <td>32.6677</td>\n",
              "      <td>40.8673</td>\n",
              "      <td>4.7508</td>\n",
              "      <td>0.000220</td>\n",
              "      <td>0.001397</td>\n",
              "      <td>0.000047</td>\n",
              "      <td>0.0</td>\n",
              "      <td>0.000000</td>\n",
              "      <td>127448</td>\n",
              "    </tr>\n",
              "    <tr>\n",
              "      <th>1</th>\n",
              "      <td>55</td>\n",
              "      <td>5</td>\n",
              "      <td>23.0</td>\n",
              "      <td>10.0</td>\n",
              "      <td>5000.0</td>\n",
              "      <td>129.2322</td>\n",
              "      <td>0.003304</td>\n",
              "      <td>0.000259</td>\n",
              "      <td>0.000069</td>\n",
              "      <td>0.000294</td>\n",
              "      <td>...</td>\n",
              "      <td>0.004307</td>\n",
              "      <td>32.9194</td>\n",
              "      <td>42.3454</td>\n",
              "      <td>4.8434</td>\n",
              "      <td>0.000381</td>\n",
              "      <td>0.001193</td>\n",
              "      <td>0.000087</td>\n",
              "      <td>0.0</td>\n",
              "      <td>0.000208</td>\n",
              "      <td>57812</td>\n",
              "    </tr>\n",
              "    <tr>\n",
              "      <th>2</th>\n",
              "      <td>56</td>\n",
              "      <td>4</td>\n",
              "      <td>30.0</td>\n",
              "      <td>10.0</td>\n",
              "      <td>200.0</td>\n",
              "      <td>69.9612</td>\n",
              "      <td>0.001101</td>\n",
              "      <td>0.000336</td>\n",
              "      <td>0.000042</td>\n",
              "      <td>0.000294</td>\n",
              "      <td>...</td>\n",
              "      <td>0.002926</td>\n",
              "      <td>44.6475</td>\n",
              "      <td>75.3548</td>\n",
              "      <td>4.0430</td>\n",
              "      <td>0.000231</td>\n",
              "      <td>0.000745</td>\n",
              "      <td>0.000063</td>\n",
              "      <td>0.0</td>\n",
              "      <td>0.000189</td>\n",
              "      <td>95360</td>\n",
              "    </tr>\n",
              "    <tr>\n",
              "      <th>3</th>\n",
              "      <td>57</td>\n",
              "      <td>3</td>\n",
              "      <td>19.0</td>\n",
              "      <td>20.0</td>\n",
              "      <td>400.0</td>\n",
              "      <td>107.6016</td>\n",
              "      <td>0.001034</td>\n",
              "      <td>0.000213</td>\n",
              "      <td>0.000011</td>\n",
              "      <td>0.000053</td>\n",
              "      <td>...</td>\n",
              "      <td>0.003783</td>\n",
              "      <td>29.2203</td>\n",
              "      <td>53.7352</td>\n",
              "      <td>4.9155</td>\n",
              "      <td>0.000202</td>\n",
              "      <td>0.000426</td>\n",
              "      <td>0.000075</td>\n",
              "      <td>0.0</td>\n",
              "      <td>0.000384</td>\n",
              "      <td>93852</td>\n",
              "    </tr>\n",
              "    <tr>\n",
              "      <th>4</th>\n",
              "      <td>58</td>\n",
              "      <td>3</td>\n",
              "      <td>32.0</td>\n",
              "      <td>10.0</td>\n",
              "      <td>500.0</td>\n",
              "      <td>122.8908</td>\n",
              "      <td>0.001136</td>\n",
              "      <td>0.000327</td>\n",
              "      <td>0.000039</td>\n",
              "      <td>0.000000</td>\n",
              "      <td>...</td>\n",
              "      <td>0.002368</td>\n",
              "      <td>22.6885</td>\n",
              "      <td>62.0813</td>\n",
              "      <td>9.3740</td>\n",
              "      <td>0.000289</td>\n",
              "      <td>0.001174</td>\n",
              "      <td>0.000077</td>\n",
              "      <td>0.0</td>\n",
              "      <td>0.000019</td>\n",
              "      <td>51936</td>\n",
              "    </tr>\n",
              "  </tbody>\n",
              "</table>\n",
              "<p>5 rows × 21 columns</p>\n",
              "</div>\n",
              "      <button class=\"colab-df-convert\" onclick=\"convertToInteractive('df-0cba127c-83a1-46a3-81ce-988020b02bcc')\"\n",
              "              title=\"Convert this dataframe to an interactive table.\"\n",
              "              style=\"display:none;\">\n",
              "        \n",
              "  <svg xmlns=\"http://www.w3.org/2000/svg\" height=\"24px\"viewBox=\"0 0 24 24\"\n",
              "       width=\"24px\">\n",
              "    <path d=\"M0 0h24v24H0V0z\" fill=\"none\"/>\n",
              "    <path d=\"M18.56 5.44l.94 2.06.94-2.06 2.06-.94-2.06-.94-.94-2.06-.94 2.06-2.06.94zm-11 1L8.5 8.5l.94-2.06 2.06-.94-2.06-.94L8.5 2.5l-.94 2.06-2.06.94zm10 10l.94 2.06.94-2.06 2.06-.94-2.06-.94-.94-2.06-.94 2.06-2.06.94z\"/><path d=\"M17.41 7.96l-1.37-1.37c-.4-.4-.92-.59-1.43-.59-.52 0-1.04.2-1.43.59L10.3 9.45l-7.72 7.72c-.78.78-.78 2.05 0 2.83L4 21.41c.39.39.9.59 1.41.59.51 0 1.02-.2 1.41-.59l7.78-7.78 2.81-2.81c.8-.78.8-2.07 0-2.86zM5.41 20L4 18.59l7.72-7.72 1.47 1.35L5.41 20z\"/>\n",
              "  </svg>\n",
              "      </button>\n",
              "      \n",
              "  <style>\n",
              "    .colab-df-container {\n",
              "      display:flex;\n",
              "      flex-wrap:wrap;\n",
              "      gap: 12px;\n",
              "    }\n",
              "\n",
              "    .colab-df-convert {\n",
              "      background-color: #E8F0FE;\n",
              "      border: none;\n",
              "      border-radius: 50%;\n",
              "      cursor: pointer;\n",
              "      display: none;\n",
              "      fill: #1967D2;\n",
              "      height: 32px;\n",
              "      padding: 0 0 0 0;\n",
              "      width: 32px;\n",
              "    }\n",
              "\n",
              "    .colab-df-convert:hover {\n",
              "      background-color: #E2EBFA;\n",
              "      box-shadow: 0px 1px 2px rgba(60, 64, 67, 0.3), 0px 1px 3px 1px rgba(60, 64, 67, 0.15);\n",
              "      fill: #174EA6;\n",
              "    }\n",
              "\n",
              "    [theme=dark] .colab-df-convert {\n",
              "      background-color: #3B4455;\n",
              "      fill: #D2E3FC;\n",
              "    }\n",
              "\n",
              "    [theme=dark] .colab-df-convert:hover {\n",
              "      background-color: #434B5C;\n",
              "      box-shadow: 0px 1px 3px 1px rgba(0, 0, 0, 0.15);\n",
              "      filter: drop-shadow(0px 1px 2px rgba(0, 0, 0, 0.3));\n",
              "      fill: #FFFFFF;\n",
              "    }\n",
              "  </style>\n",
              "\n",
              "      <script>\n",
              "        const buttonEl =\n",
              "          document.querySelector('#df-0cba127c-83a1-46a3-81ce-988020b02bcc button.colab-df-convert');\n",
              "        buttonEl.style.display =\n",
              "          google.colab.kernel.accessAllowed ? 'block' : 'none';\n",
              "\n",
              "        async function convertToInteractive(key) {\n",
              "          const element = document.querySelector('#df-0cba127c-83a1-46a3-81ce-988020b02bcc');\n",
              "          const dataTable =\n",
              "            await google.colab.kernel.invokeFunction('convertToInteractive',\n",
              "                                                     [key], {});\n",
              "          if (!dataTable) return;\n",
              "\n",
              "          const docLinkHtml = 'Like what you see? Visit the ' +\n",
              "            '<a target=\"_blank\" href=https://colab.research.google.com/notebooks/data_table.ipynb>data table notebook</a>'\n",
              "            + ' to learn more about interactive tables.';\n",
              "          element.innerHTML = '';\n",
              "          dataTable['output_type'] = 'display_data';\n",
              "          await google.colab.output.renderOutput(dataTable, element);\n",
              "          const docLink = document.createElement('div');\n",
              "          docLink.innerHTML = docLinkHtml;\n",
              "          element.appendChild(docLink);\n",
              "        }\n",
              "      </script>\n",
              "    </div>\n",
              "  </div>\n",
              "  "
            ]
          },
          "metadata": {},
          "execution_count": 64
        }
      ],
      "source": [
        "import pandas as pd, numpy as np\n",
        "df=pd.read_csv(r\"/content/drive/MyDrive/Colab Notebooks/starcraft.csv\")\n",
        "df.head()"
      ]
    },
    {
      "cell_type": "code",
      "source": [
        "import matplotlib.pyplot as plt\n",
        "\n",
        "df.drop(columns=['GameID'],inplace=True)\n",
        "for colName in df.columns:\n",
        "  fig,ax=plt.subplots(figsize=(10,8))\n",
        "  ax.hist(df[colName])\n",
        "  ax.set_title('Distribution of '+colName,fontsize=15)"
      ],
      "metadata": {
        "colab": {
          "base_uri": "https://localhost:8080/",
          "height": 1000
        },
        "id": "o2K5aGju6cfG",
        "outputId": "63e01d51-f802-4c04-9cdb-f0a4825bf341"
      },
      "execution_count": null,
      "outputs": [
        {
          "output_type": "display_data",
          "data": {
            "text/plain": [
              "<Figure size 720x576 with 1 Axes>"
            ],
            "image/png": "[encoded data removed]"
          },
          "metadata": {
            "needs_background": "light"
          }
        },
        {
          "output_type": "display_data",
          "data": {
            "text/plain": [
              "<Figure size 720x576 with 1 Axes>"
            ],
            "image/png": "[encoded data removed]"
          },
          "metadata": {
            "needs_background": "light"
          }
        },
        {
          "output_type": "display_data",
          "data": {
            "text/plain": [
              "<Figure size 720x576 with 1 Axes>"
            ],
            "image/png": "[encoded data removed]"
          },
          "metadata": {
            "needs_background": "light"
          }
        },
        {
          "output_type": "display_data",
          "data": {
            "text/plain": [
              "<Figure size 720x576 with 1 Axes>"
            ],
            "image/png": "[encoded data removed]"
          },
          "metadata": {
            "needs_background": "light"
          }
        },
        {
          "output_type": "display_data",
          "data": {
            "text/plain": [
              "<Figure size 720x576 with 1 Axes>"
            ],
            "image/png": "[encoded data removed]"
          },
          "metadata": {
            "needs_background": "light"
          }
        },
        {
          "output_type": "display_data",
          "data": {
            "text/plain": [
              "<Figure size 720x576 with 1 Axes>"
            ],
            "image/png": "[encoded data removed]"
          },
          "metadata": {
            "needs_background": "light"
          }
        },
        {
          "output_type": "display_data",
          "data": {
            "text/plain": [
              "<Figure size 720x576 with 1 Axes>"
            ],
            "image/png": "[encoded data removed]"
          },
          "metadata": {
            "needs_background": "light"
          }
        },
        {
          "output_type": "display_data",
          "data": {
            "text/plain": [
              "<Figure size 720x576 with 1 Axes>"
            ],
            "image/png": "[encoded data removed]"
          },
          "metadata": {
            "needs_background": "light"
          }
        },
        {
          "output_type": "display_data",
          "data": {
            "text/plain": [
              "<Figure size 720x576 with 1 Axes>"
            ],
            "image/png": "[encoded data removed]"
          },
          "metadata": {
            "needs_background": "light"
          }
        },
        {
          "output_type": "display_data",
          "data": {
            "text/plain": [
              "<Figure size 720x576 with 1 Axes>"
            ],
            "image/png": "[encoded data removed]"
          },
          "metadata": {
            "needs_background": "light"
          }
        },
        {
          "output_type": "display_data",
          "data": {
            "text/plain": [
              "<Figure size 720x576 with 1 Axes>"
            ],
            "image/png": "[encoded data removed]"
          },
          "metadata": {
            "needs_background": "light"
          }
        },
        {
          "output_type": "display_data",
          "data": {
            "text/plain": [
              "<Figure size 720x576 with 1 Axes>"
            ],
            "image/png": "[encoded data removed]"
          },
          "metadata": {
            "needs_background": "light"
          }
        },
        {
          "output_type": "display_data",
          "data": {
            "text/plain": [
              "<Figure size 720x576 with 1 Axes>"
            ],
            "image/png": "[encoded data removed]"
          },
          "metadata": {
            "needs_background": "light"
          }
        },
        {
          "output_type": "display_data",
          "data": {
            "text/plain": [
              "<Figure size 720x576 with 1 Axes>"
            ],
            "image/png": "[encoded data removed]"
          },
          "metadata": {
            "needs_background": "light"
          }
        },
        {
          "output_type": "display_data",
          "data": {
            "text/plain": [
              "<Figure size 720x576 with 1 Axes>"
            ],
            "image/png": "[encoded data removed]"
          },
          "metadata": {
            "needs_background": "light"
          }
        },
        {
          "output_type": "display_data",
          "data": {
            "text/plain": [
              "<Figure size 720x576 with 1 Axes>"
            ],
            "image/png": "[encoded data removed]"
          },
          "metadata": {
            "needs_background": "light"
          }
        },
        {
          "output_type": "display_data",
          "data": {
            "text/plain": [
              "<Figure size 720x576 with 1 Axes>"
            ],
            "image/png": "[encoded data removed]"
          },
          "metadata": {
            "needs_background": "light"
          }
        },
        {
          "output_type": "display_data",
          "data": {
            "text/plain": [
              "<Figure size 720x576 with 1 Axes>"
            ],
            "image/png": "[encoded data removed]"
          },
          "metadata": {
            "needs_background": "light"
          }
        },
        {
          "output_type": "display_data",
          "data": {
            "text/plain": [
              "<Figure size 720x576 with 1 Axes>"
            ],
            "image/png": "[encoded data removed]"
          },
          "metadata": {
            "needs_background": "light"
          }
        },
        {
          "output_type": "display_data",
          "data": {
            "text/plain": [
              "<Figure size 720x576 with 1 Axes>"
            ],
            "image/png": "[encoded data removed]"
          },
          "metadata": {
            "needs_background": "light"
          }
        }
      ]
    },
    {
      "cell_type": "markdown",
      "source": [
        "Judging from personal experience of the game, many of the aforementioned features are correlated with each other (for example, the assigning and using of hetkeys etc). Therefore, it would be prudent to check if these entries are really correlated. If so, PCA would be best to extract the most important information from the dataset."
      ],
      "metadata": {
        "id": "Eg3bTqlCtxJt"
      }
    },
    {
      "cell_type": "code",
      "source": [
        "df.corr()"
      ],
      "metadata": {
        "colab": {
          "base_uri": "https://localhost:8080/",
          "height": 741
        },
        "id": "kpveDtcr7h7F",
        "outputId": "a8f6fbdc-cb0e-4e25-c12c-0ca408829877"
      },
      "execution_count": null,
      "outputs": [
        {
          "output_type": "execute_result",
          "data": {
            "text/plain": [
              "                    LeagueIndex       Age  HoursPerWeek  TotalHours       APM  \\\n",
              "LeagueIndex            1.000000 -0.127825      0.217976    0.023884  0.662309   \n",
              "Age                   -0.127825  1.000000     -0.184508   -0.016630 -0.210559   \n",
              "HoursPerWeek           0.217976 -0.184508      1.000000    0.024306  0.246844   \n",
              "TotalHours             0.023884 -0.016630      0.024306    1.000000  0.072850   \n",
              "APM                    0.662309 -0.210559      0.246844    0.072850  1.000000   \n",
              "SelectByHotkeys        0.490599 -0.131177      0.205785    0.081830  0.840693   \n",
              "AssignToHotkeys        0.531125 -0.105609      0.158422    0.042415  0.578416   \n",
              "UniqueHotkeys          0.294980 -0.004513      0.062190    0.007953  0.320444   \n",
              "MinimapAttacks         0.312543  0.043388      0.084045    0.000874  0.271021   \n",
              "MinimapRightClicks     0.233231 -0.019582      0.049424    0.007662  0.322178   \n",
              "NumberOfPACs           0.612192 -0.197282      0.174948    0.039577  0.651237   \n",
              "GapBetweenPACs        -0.553246  0.112021     -0.133770   -0.020644 -0.575275   \n",
              "ActionLatency         -0.673939  0.240348     -0.188775   -0.035700 -0.722402   \n",
              "ActionsInPAC           0.143121 -0.045406      0.095091    0.010704  0.383985   \n",
              "TotalMapExplored       0.232982 -0.090594      0.061180    0.026362  0.260569   \n",
              "WorkersMade            0.295643 -0.092102      0.050623    0.014828  0.349692   \n",
              "UniqueUnitsMade        0.111563 -0.026603      0.031314   -0.000993  0.102066   \n",
              "ComplexUnitsMade       0.148833 -0.080236      0.059325   -0.007154  0.136142   \n",
              "ComplexAbilityUsed     0.145733 -0.065737      0.074702   -0.006311  0.131588   \n",
              "MaxTimeStamp          -0.003790  0.042930      0.006740   -0.004556 -0.020038   \n",
              "\n",
              "                    SelectByHotkeys  AssignToHotkeys  UniqueHotkeys  \\\n",
              "LeagueIndex                0.490599         0.531125       0.294980   \n",
              "Age                       -0.131177        -0.105609      -0.004513   \n",
              "HoursPerWeek               0.205785         0.158422       0.062190   \n",
              "TotalHours                 0.081830         0.042415       0.007953   \n",
              "APM                        0.840693         0.578416       0.320444   \n",
              "SelectByHotkeys            1.000000         0.504526       0.327799   \n",
              "AssignToHotkeys            0.504526         1.000000       0.340051   \n",
              "UniqueHotkeys              0.327799         0.340051       1.000000   \n",
              "MinimapAttacks             0.197158         0.242197       0.086231   \n",
              "MinimapRightClicks         0.143368         0.193043       0.079627   \n",
              "NumberOfPACs               0.398505         0.486729       0.129747   \n",
              "GapBetweenPACs            -0.304290        -0.396890      -0.213130   \n",
              "ActionLatency             -0.415388        -0.482190      -0.196359   \n",
              "ActionsInPAC               0.163282         0.093667       0.146323   \n",
              "TotalMapExplored           0.212857         0.171185       0.383204   \n",
              "WorkersMade                0.141723         0.183065       0.127259   \n",
              "UniqueUnitsMade            0.113452         0.072920       0.387962   \n",
              "ComplexUnitsMade           0.044002         0.144604      -0.117627   \n",
              "ComplexAbilityUsed         0.061038         0.154410      -0.090686   \n",
              "MaxTimeStamp              -0.085848         0.004858      -0.423839   \n",
              "\n",
              "                    MinimapAttacks  MinimapRightClicks  NumberOfPACs  \\\n",
              "LeagueIndex               0.312543            0.233231      0.612192   \n",
              "Age                       0.043388           -0.019582     -0.197282   \n",
              "HoursPerWeek              0.084045            0.049424      0.174948   \n",
              "TotalHours                0.000874            0.007662      0.039577   \n",
              "APM                       0.271021            0.322178      0.651237   \n",
              "SelectByHotkeys           0.197158            0.143368      0.398505   \n",
              "AssignToHotkeys           0.242197            0.193043      0.486729   \n",
              "UniqueHotkeys             0.086231            0.079627      0.129747   \n",
              "MinimapAttacks            1.000000            0.242268      0.177343   \n",
              "MinimapRightClicks        0.242268            1.000000      0.176136   \n",
              "NumberOfPACs              0.177343            0.176136      1.000000   \n",
              "GapBetweenPACs           -0.237631           -0.254466     -0.506261   \n",
              "ActionLatency            -0.199902           -0.230659     -0.820334   \n",
              "ActionsInPAC              0.134803            0.307512     -0.232018   \n",
              "TotalMapExplored          0.033417            0.112859      0.175364   \n",
              "WorkersMade               0.077622            0.206594      0.277891   \n",
              "UniqueUnitsMade          -0.036824            0.063029     -0.061927   \n",
              "ComplexUnitsMade          0.040244            0.091607      0.181483   \n",
              "ComplexAbilityUsed        0.044530            0.090649      0.168293   \n",
              "MaxTimeStamp              0.093223            0.055443      0.214167   \n",
              "\n",
              "                    GapBetweenPACs  ActionLatency  ActionsInPAC  \\\n",
              "LeagueIndex              -0.553246      -0.673939      0.143121   \n",
              "Age                       0.112021       0.240348     -0.045406   \n",
              "HoursPerWeek             -0.133770      -0.188775      0.095091   \n",
              "TotalHours               -0.020644      -0.035700      0.010704   \n",
              "APM                      -0.575275      -0.722402      0.383985   \n",
              "SelectByHotkeys          -0.304290      -0.415388      0.163282   \n",
              "AssignToHotkeys          -0.396890      -0.482190      0.093667   \n",
              "UniqueHotkeys            -0.213130      -0.196359      0.146323   \n",
              "MinimapAttacks           -0.237631      -0.199902      0.134803   \n",
              "MinimapRightClicks       -0.254466      -0.230659      0.307512   \n",
              "NumberOfPACs             -0.506261      -0.820334     -0.232018   \n",
              "GapBetweenPACs            1.000000       0.689402     -0.311072   \n",
              "ActionLatency             0.689402       1.000000     -0.110224   \n",
              "ActionsInPAC             -0.311072      -0.110224      1.000000   \n",
              "TotalMapExplored         -0.105821      -0.235845      0.104756   \n",
              "WorkersMade              -0.235419      -0.309175      0.251795   \n",
              "UniqueUnitsMade          -0.108015      -0.044923      0.185555   \n",
              "ComplexUnitsMade         -0.074659      -0.186405      0.052725   \n",
              "ComplexAbilityUsed       -0.090565      -0.184372      0.054536   \n",
              "MaxTimeStamp              0.055406      -0.082962     -0.194404   \n",
              "\n",
              "                    TotalMapExplored  WorkersMade  UniqueUnitsMade  \\\n",
              "LeagueIndex                 0.232982     0.295643         0.111563   \n",
              "Age                        -0.090594    -0.092102        -0.026603   \n",
              "HoursPerWeek                0.061180     0.050623         0.031314   \n",
              "TotalHours                  0.026362     0.014828        -0.000993   \n",
              "APM                         0.260569     0.349692         0.102066   \n",
              "SelectByHotkeys             0.212857     0.141723         0.113452   \n",
              "AssignToHotkeys             0.171185     0.183065         0.072920   \n",
              "UniqueHotkeys               0.383204     0.127259         0.387962   \n",
              "MinimapAttacks              0.033417     0.077622        -0.036824   \n",
              "MinimapRightClicks          0.112859     0.206594         0.063029   \n",
              "NumberOfPACs                0.175364     0.277891        -0.061927   \n",
              "GapBetweenPACs             -0.105821    -0.235419        -0.108015   \n",
              "ActionLatency              -0.235845    -0.309175        -0.044923   \n",
              "ActionsInPAC                0.104756     0.251795         0.185555   \n",
              "TotalMapExplored            1.000000     0.272495         0.471744   \n",
              "WorkersMade                 0.272495     1.000000         0.236420   \n",
              "UniqueUnitsMade             0.471744     0.236420         1.000000   \n",
              "ComplexUnitsMade           -0.102323     0.203636        -0.100346   \n",
              "ComplexAbilityUsed         -0.084492     0.101942        -0.101329   \n",
              "MaxTimeStamp               -0.512077    -0.134641        -0.645804   \n",
              "\n",
              "                    ComplexUnitsMade  ComplexAbilityUsed  MaxTimeStamp  \n",
              "LeagueIndex                 0.148833            0.145733     -0.003790  \n",
              "Age                        -0.080236           -0.065737      0.042930  \n",
              "HoursPerWeek                0.059325            0.074702      0.006740  \n",
              "TotalHours                 -0.007154           -0.006311     -0.004556  \n",
              "APM                         0.136142            0.131588     -0.020038  \n",
              "SelectByHotkeys             0.044002            0.061038     -0.085848  \n",
              "AssignToHotkeys             0.144604            0.154410      0.004858  \n",
              "UniqueHotkeys              -0.117627           -0.090686     -0.423839  \n",
              "MinimapAttacks              0.040244            0.044530      0.093223  \n",
              "MinimapRightClicks          0.091607            0.090649      0.055443  \n",
              "NumberOfPACs                0.181483            0.168293      0.214167  \n",
              "GapBetweenPACs             -0.074659           -0.090565      0.055406  \n",
              "ActionLatency              -0.186405           -0.184372     -0.082962  \n",
              "ActionsInPAC                0.052725            0.054536     -0.194404  \n",
              "TotalMapExplored           -0.102323           -0.084492     -0.512077  \n",
              "WorkersMade                 0.203636            0.101942     -0.134641  \n",
              "UniqueUnitsMade            -0.100346           -0.101329     -0.645804  \n",
              "ComplexUnitsMade            1.000000            0.616680      0.314334  \n",
              "ComplexAbilityUsed          0.616680            1.000000      0.265472  \n",
              "MaxTimeStamp                0.314334            0.265472      1.000000  "
            ],
            "text/html": [
              "\n",
              "  <div id=\"df-47228913-bb08-48a4-b61e-fd48f562e0e6\">\n",
              "    <div class=\"colab-df-container\">\n",
              "      <div>\n",
              "<style scoped>\n",
              "    .dataframe tbody tr th:only-of-type {\n",
              "        vertical-align: middle;\n",
              "    }\n",
              "\n",
              "    .dataframe tbody tr th {\n",
              "        vertical-align: top;\n",
              "    }\n",
              "\n",
              "    .dataframe thead th {\n",
              "        text-align: right;\n",
              "    }\n",
              "</style>\n",
              "<table border=\"1\" class=\"dataframe\">\n",
              "  <thead>\n",
              "    <tr style=\"text-align: right;\">\n",
              "      <th></th>\n",
              "      <th>LeagueIndex</th>\n",
              "      <th>Age</th>\n",
              "      <th>HoursPerWeek</th>\n",
              "      <th>TotalHours</th>\n",
              "      <th>APM</th>\n",
              "      <th>SelectByHotkeys</th>\n",
              "      <th>AssignToHotkeys</th>\n",
              "      <th>UniqueHotkeys</th>\n",
              "      <th>MinimapAttacks</th>\n",
              "      <th>MinimapRightClicks</th>\n",
              "      <th>NumberOfPACs</th>\n",
              "      <th>GapBetweenPACs</th>\n",
              "      <th>ActionLatency</th>\n",
              "      <th>ActionsInPAC</th>\n",
              "      <th>TotalMapExplored</th>\n",
              "      <th>WorkersMade</th>\n",
              "      <th>UniqueUnitsMade</th>\n",
              "      <th>ComplexUnitsMade</th>\n",
              "      <th>ComplexAbilityUsed</th>\n",
              "      <th>MaxTimeStamp</th>\n",
              "    </tr>\n",
              "  </thead>\n",
              "  <tbody>\n",
              "    <tr>\n",
              "      <th>LeagueIndex</th>\n",
              "      <td>1.000000</td>\n",
              "      <td>-0.127825</td>\n",
              "      <td>0.217976</td>\n",
              "      <td>0.023884</td>\n",
              "      <td>0.662309</td>\n",
              "      <td>0.490599</td>\n",
              "      <td>0.531125</td>\n",
              "      <td>0.294980</td>\n",
              "      <td>0.312543</td>\n",
              "      <td>0.233231</td>\n",
              "      <td>0.612192</td>\n",
              "      <td>-0.553246</td>\n",
              "      <td>-0.673939</td>\n",
              "      <td>0.143121</td>\n",
              "      <td>0.232982</td>\n",
              "      <td>0.295643</td>\n",
              "      <td>0.111563</td>\n",
              "      <td>0.148833</td>\n",
              "      <td>0.145733</td>\n",
              "      <td>-0.003790</td>\n",
              "    </tr>\n",
              "    <tr>\n",
              "      <th>Age</th>\n",
              "      <td>-0.127825</td>\n",
              "      <td>1.000000</td>\n",
              "      <td>-0.184508</td>\n",
              "      <td>-0.016630</td>\n",
              "      <td>-0.210559</td>\n",
              "      <td>-0.131177</td>\n",
              "      <td>-0.105609</td>\n",
              "      <td>-0.004513</td>\n",
              "      <td>0.043388</td>\n",
              "      <td>-0.019582</td>\n",
              "      <td>-0.197282</td>\n",
              "      <td>0.112021</td>\n",
              "      <td>0.240348</td>\n",
              "      <td>-0.045406</td>\n",
              "      <td>-0.090594</td>\n",
              "      <td>-0.092102</td>\n",
              "      <td>-0.026603</td>\n",
              "      <td>-0.080236</td>\n",
              "      <td>-0.065737</td>\n",
              "      <td>0.042930</td>\n",
              "    </tr>\n",
              "    <tr>\n",
              "      <th>HoursPerWeek</th>\n",
              "      <td>0.217976</td>\n",
              "      <td>-0.184508</td>\n",
              "      <td>1.000000</td>\n",
              "      <td>0.024306</td>\n",
              "      <td>0.246844</td>\n",
              "      <td>0.205785</td>\n",
              "      <td>0.158422</td>\n",
              "      <td>0.062190</td>\n",
              "      <td>0.084045</td>\n",
              "      <td>0.049424</td>\n",
              "      <td>0.174948</td>\n",
              "      <td>-0.133770</td>\n",
              "      <td>-0.188775</td>\n",
              "      <td>0.095091</td>\n",
              "      <td>0.061180</td>\n",
              "      <td>0.050623</td>\n",
              "      <td>0.031314</td>\n",
              "      <td>0.059325</td>\n",
              "      <td>0.074702</td>\n",
              "      <td>0.006740</td>\n",
              "    </tr>\n",
              "    <tr>\n",
              "      <th>TotalHours</th>\n",
              "      <td>0.023884</td>\n",
              "      <td>-0.016630</td>\n",
              "      <td>0.024306</td>\n",
              "      <td>1.000000</td>\n",
              "      <td>0.072850</td>\n",
              "      <td>0.081830</td>\n",
              "      <td>0.042415</td>\n",
              "      <td>0.007953</td>\n",
              "      <td>0.000874</td>\n",
              "      <td>0.007662</td>\n",
              "      <td>0.039577</td>\n",
              "      <td>-0.020644</td>\n",
              "      <td>-0.035700</td>\n",
              "      <td>0.010704</td>\n",
              "      <td>0.026362</td>\n",
              "      <td>0.014828</td>\n",
              "      <td>-0.000993</td>\n",
              "      <td>-0.007154</td>\n",
              "      <td>-0.006311</td>\n",
              "      <td>-0.004556</td>\n",
              "    </tr>\n",
              "    <tr>\n",
              "      <th>APM</th>\n",
              "      <td>0.662309</td>\n",
              "      <td>-0.210559</td>\n",
              "      <td>0.246844</td>\n",
              "      <td>0.072850</td>\n",
              "      <td>1.000000</td>\n",
              "      <td>0.840693</td>\n",
              "      <td>0.578416</td>\n",
              "      <td>0.320444</td>\n",
              "      <td>0.271021</td>\n",
              "      <td>0.322178</td>\n",
              "      <td>0.651237</td>\n",
              "      <td>-0.575275</td>\n",
              "      <td>-0.722402</td>\n",
              "      <td>0.383985</td>\n",
              "      <td>0.260569</td>\n",
              "      <td>0.349692</td>\n",
              "      <td>0.102066</td>\n",
              "      <td>0.136142</td>\n",
              "      <td>0.131588</td>\n",
              "      <td>-0.020038</td>\n",
              "    </tr>\n",
              "    <tr>\n",
              "      <th>SelectByHotkeys</th>\n",
              "      <td>0.490599</td>\n",
              "      <td>-0.131177</td>\n",
              "      <td>0.205785</td>\n",
              "      <td>0.081830</td>\n",
              "      <td>0.840693</td>\n",
              "      <td>1.000000</td>\n",
              "      <td>0.504526</td>\n",
              "      <td>0.327799</td>\n",
              "      <td>0.197158</td>\n",
              "      <td>0.143368</td>\n",
              "      <td>0.398505</td>\n",
              "      <td>-0.304290</td>\n",
              "      <td>-0.415388</td>\n",
              "      <td>0.163282</td>\n",
              "      <td>0.212857</td>\n",
              "      <td>0.141723</td>\n",
              "      <td>0.113452</td>\n",
              "      <td>0.044002</td>\n",
              "      <td>0.061038</td>\n",
              "      <td>-0.085848</td>\n",
              "    </tr>\n",
              "    <tr>\n",
              "      <th>AssignToHotkeys</th>\n",
              "      <td>0.531125</td>\n",
              "      <td>-0.105609</td>\n",
              "      <td>0.158422</td>\n",
              "      <td>0.042415</td>\n",
              "      <td>0.578416</td>\n",
              "      <td>0.504526</td>\n",
              "      <td>1.000000</td>\n",
              "      <td>0.340051</td>\n",
              "      <td>0.242197</td>\n",
              "      <td>0.193043</td>\n",
              "      <td>0.486729</td>\n",
              "      <td>-0.396890</td>\n",
              "      <td>-0.482190</td>\n",
              "      <td>0.093667</td>\n",
              "      <td>0.171185</td>\n",
              "      <td>0.183065</td>\n",
              "      <td>0.072920</td>\n",
              "      <td>0.144604</td>\n",
              "      <td>0.154410</td>\n",
              "      <td>0.004858</td>\n",
              "    </tr>\n",
              "    <tr>\n",
              "      <th>UniqueHotkeys</th>\n",
              "      <td>0.294980</td>\n",
              "      <td>-0.004513</td>\n",
              "      <td>0.062190</td>\n",
              "      <td>0.007953</td>\n",
              "      <td>0.320444</td>\n",
              "      <td>0.327799</td>\n",
              "      <td>0.340051</td>\n",
              "      <td>1.000000</td>\n",
              "      <td>0.086231</td>\n",
              "      <td>0.079627</td>\n",
              "      <td>0.129747</td>\n",
              "      <td>-0.213130</td>\n",
              "      <td>-0.196359</td>\n",
              "      <td>0.146323</td>\n",
              "      <td>0.383204</td>\n",
              "      <td>0.127259</td>\n",
              "      <td>0.387962</td>\n",
              "      <td>-0.117627</td>\n",
              "      <td>-0.090686</td>\n",
              "      <td>-0.423839</td>\n",
              "    </tr>\n",
              "    <tr>\n",
              "      <th>MinimapAttacks</th>\n",
              "      <td>0.312543</td>\n",
              "      <td>0.043388</td>\n",
              "      <td>0.084045</td>\n",
              "      <td>0.000874</td>\n",
              "      <td>0.271021</td>\n",
              "      <td>0.197158</td>\n",
              "      <td>0.242197</td>\n",
              "      <td>0.086231</td>\n",
              "      <td>1.000000</td>\n",
              "      <td>0.242268</td>\n",
              "      <td>0.177343</td>\n",
              "      <td>-0.237631</td>\n",
              "      <td>-0.199902</td>\n",
              "      <td>0.134803</td>\n",
              "      <td>0.033417</td>\n",
              "      <td>0.077622</td>\n",
              "      <td>-0.036824</td>\n",
              "      <td>0.040244</td>\n",
              "      <td>0.044530</td>\n",
              "      <td>0.093223</td>\n",
              "    </tr>\n",
              "    <tr>\n",
              "      <th>MinimapRightClicks</th>\n",
              "      <td>0.233231</td>\n",
              "      <td>-0.019582</td>\n",
              "      <td>0.049424</td>\n",
              "      <td>0.007662</td>\n",
              "      <td>0.322178</td>\n",
              "      <td>0.143368</td>\n",
              "      <td>0.193043</td>\n",
              "      <td>0.079627</td>\n",
              "      <td>0.242268</td>\n",
              "      <td>1.000000</td>\n",
              "      <td>0.176136</td>\n",
              "      <td>-0.254466</td>\n",
              "      <td>-0.230659</td>\n",
              "      <td>0.307512</td>\n",
              "      <td>0.112859</td>\n",
              "      <td>0.206594</td>\n",
              "      <td>0.063029</td>\n",
              "      <td>0.091607</td>\n",
              "      <td>0.090649</td>\n",
              "      <td>0.055443</td>\n",
              "    </tr>\n",
              "    <tr>\n",
              "      <th>NumberOfPACs</th>\n",
              "      <td>0.612192</td>\n",
              "      <td>-0.197282</td>\n",
              "      <td>0.174948</td>\n",
              "      <td>0.039577</td>\n",
              "      <td>0.651237</td>\n",
              "      <td>0.398505</td>\n",
              "      <td>0.486729</td>\n",
              "      <td>0.129747</td>\n",
              "      <td>0.177343</td>\n",
              "      <td>0.176136</td>\n",
              "      <td>1.000000</td>\n",
              "      <td>-0.506261</td>\n",
              "      <td>-0.820334</td>\n",
              "      <td>-0.232018</td>\n",
              "      <td>0.175364</td>\n",
              "      <td>0.277891</td>\n",
              "      <td>-0.061927</td>\n",
              "      <td>0.181483</td>\n",
              "      <td>0.168293</td>\n",
              "      <td>0.214167</td>\n",
              "    </tr>\n",
              "    <tr>\n",
              "      <th>GapBetweenPACs</th>\n",
              "      <td>-0.553246</td>\n",
              "      <td>0.112021</td>\n",
              "      <td>-0.133770</td>\n",
              "      <td>-0.020644</td>\n",
              "      <td>-0.575275</td>\n",
              "      <td>-0.304290</td>\n",
              "      <td>-0.396890</td>\n",
              "      <td>-0.213130</td>\n",
              "      <td>-0.237631</td>\n",
              "      <td>-0.254466</td>\n",
              "      <td>-0.506261</td>\n",
              "      <td>1.000000</td>\n",
              "      <td>0.689402</td>\n",
              "      <td>-0.311072</td>\n",
              "      <td>-0.105821</td>\n",
              "      <td>-0.235419</td>\n",
              "      <td>-0.108015</td>\n",
              "      <td>-0.074659</td>\n",
              "      <td>-0.090565</td>\n",
              "      <td>0.055406</td>\n",
              "    </tr>\n",
              "    <tr>\n",
              "      <th>ActionLatency</th>\n",
              "      <td>-0.673939</td>\n",
              "      <td>0.240348</td>\n",
              "      <td>-0.188775</td>\n",
              "      <td>-0.035700</td>\n",
              "      <td>-0.722402</td>\n",
              "      <td>-0.415388</td>\n",
              "      <td>-0.482190</td>\n",
              "      <td>-0.196359</td>\n",
              "      <td>-0.199902</td>\n",
              "      <td>-0.230659</td>\n",
              "      <td>-0.820334</td>\n",
              "      <td>0.689402</td>\n",
              "      <td>1.000000</td>\n",
              "      <td>-0.110224</td>\n",
              "      <td>-0.235845</td>\n",
              "      <td>-0.309175</td>\n",
              "      <td>-0.044923</td>\n",
              "      <td>-0.186405</td>\n",
              "      <td>-0.184372</td>\n",
              "      <td>-0.082962</td>\n",
              "    </tr>\n",
              "    <tr>\n",
              "      <th>ActionsInPAC</th>\n",
              "      <td>0.143121</td>\n",
              "      <td>-0.045406</td>\n",
              "      <td>0.095091</td>\n",
              "      <td>0.010704</td>\n",
              "      <td>0.383985</td>\n",
              "      <td>0.163282</td>\n",
              "      <td>0.093667</td>\n",
              "      <td>0.146323</td>\n",
              "      <td>0.134803</td>\n",
              "      <td>0.307512</td>\n",
              "      <td>-0.232018</td>\n",
              "      <td>-0.311072</td>\n",
              "      <td>-0.110224</td>\n",
              "      <td>1.000000</td>\n",
              "      <td>0.104756</td>\n",
              "      <td>0.251795</td>\n",
              "      <td>0.185555</td>\n",
              "      <td>0.052725</td>\n",
              "      <td>0.054536</td>\n",
              "      <td>-0.194404</td>\n",
              "    </tr>\n",
              "    <tr>\n",
              "      <th>TotalMapExplored</th>\n",
              "      <td>0.232982</td>\n",
              "      <td>-0.090594</td>\n",
              "      <td>0.061180</td>\n",
              "      <td>0.026362</td>\n",
              "      <td>0.260569</td>\n",
              "      <td>0.212857</td>\n",
              "      <td>0.171185</td>\n",
              "      <td>0.383204</td>\n",
              "      <td>0.033417</td>\n",
              "      <td>0.112859</td>\n",
              "      <td>0.175364</td>\n",
              "      <td>-0.105821</td>\n",
              "      <td>-0.235845</td>\n",
              "      <td>0.104756</td>\n",
              "      <td>1.000000</td>\n",
              "      <td>0.272495</td>\n",
              "      <td>0.471744</td>\n",
              "      <td>-0.102323</td>\n",
              "      <td>-0.084492</td>\n",
              "      <td>-0.512077</td>\n",
              "    </tr>\n",
              "    <tr>\n",
              "      <th>WorkersMade</th>\n",
              "      <td>0.295643</td>\n",
              "      <td>-0.092102</td>\n",
              "      <td>0.050623</td>\n",
              "      <td>0.014828</td>\n",
              "      <td>0.349692</td>\n",
              "      <td>0.141723</td>\n",
              "      <td>0.183065</td>\n",
              "      <td>0.127259</td>\n",
              "      <td>0.077622</td>\n",
              "      <td>0.206594</td>\n",
              "      <td>0.277891</td>\n",
              "      <td>-0.235419</td>\n",
              "      <td>-0.309175</td>\n",
              "      <td>0.251795</td>\n",
              "      <td>0.272495</td>\n",
              "      <td>1.000000</td>\n",
              "      <td>0.236420</td>\n",
              "      <td>0.203636</td>\n",
              "      <td>0.101942</td>\n",
              "      <td>-0.134641</td>\n",
              "    </tr>\n",
              "    <tr>\n",
              "      <th>UniqueUnitsMade</th>\n",
              "      <td>0.111563</td>\n",
              "      <td>-0.026603</td>\n",
              "      <td>0.031314</td>\n",
              "      <td>-0.000993</td>\n",
              "      <td>0.102066</td>\n",
              "      <td>0.113452</td>\n",
              "      <td>0.072920</td>\n",
              "      <td>0.387962</td>\n",
              "      <td>-0.036824</td>\n",
              "      <td>0.063029</td>\n",
              "      <td>-0.061927</td>\n",
              "      <td>-0.108015</td>\n",
              "      <td>-0.044923</td>\n",
              "      <td>0.185555</td>\n",
              "      <td>0.471744</td>\n",
              "      <td>0.236420</td>\n",
              "      <td>1.000000</td>\n",
              "      <td>-0.100346</td>\n",
              "      <td>-0.101329</td>\n",
              "      <td>-0.645804</td>\n",
              "    </tr>\n",
              "    <tr>\n",
              "      <th>ComplexUnitsMade</th>\n",
              "      <td>0.148833</td>\n",
              "      <td>-0.080236</td>\n",
              "      <td>0.059325</td>\n",
              "      <td>-0.007154</td>\n",
              "      <td>0.136142</td>\n",
              "      <td>0.044002</td>\n",
              "      <td>0.144604</td>\n",
              "      <td>-0.117627</td>\n",
              "      <td>0.040244</td>\n",
              "      <td>0.091607</td>\n",
              "      <td>0.181483</td>\n",
              "      <td>-0.074659</td>\n",
              "      <td>-0.186405</td>\n",
              "      <td>0.052725</td>\n",
              "      <td>-0.102323</td>\n",
              "      <td>0.203636</td>\n",
              "      <td>-0.100346</td>\n",
              "      <td>1.000000</td>\n",
              "      <td>0.616680</td>\n",
              "      <td>0.314334</td>\n",
              "    </tr>\n",
              "    <tr>\n",
              "      <th>ComplexAbilityUsed</th>\n",
              "      <td>0.145733</td>\n",
              "      <td>-0.065737</td>\n",
              "      <td>0.074702</td>\n",
              "      <td>-0.006311</td>\n",
              "      <td>0.131588</td>\n",
              "      <td>0.061038</td>\n",
              "      <td>0.154410</td>\n",
              "      <td>-0.090686</td>\n",
              "      <td>0.044530</td>\n",
              "      <td>0.090649</td>\n",
              "      <td>0.168293</td>\n",
              "      <td>-0.090565</td>\n",
              "      <td>-0.184372</td>\n",
              "      <td>0.054536</td>\n",
              "      <td>-0.084492</td>\n",
              "      <td>0.101942</td>\n",
              "      <td>-0.101329</td>\n",
              "      <td>0.616680</td>\n",
              "      <td>1.000000</td>\n",
              "      <td>0.265472</td>\n",
              "    </tr>\n",
              "    <tr>\n",
              "      <th>MaxTimeStamp</th>\n",
              "      <td>-0.003790</td>\n",
              "      <td>0.042930</td>\n",
              "      <td>0.006740</td>\n",
              "      <td>-0.004556</td>\n",
              "      <td>-0.020038</td>\n",
              "      <td>-0.085848</td>\n",
              "      <td>0.004858</td>\n",
              "      <td>-0.423839</td>\n",
              "      <td>0.093223</td>\n",
              "      <td>0.055443</td>\n",
              "      <td>0.214167</td>\n",
              "      <td>0.055406</td>\n",
              "      <td>-0.082962</td>\n",
              "      <td>-0.194404</td>\n",
              "      <td>-0.512077</td>\n",
              "      <td>-0.134641</td>\n",
              "      <td>-0.645804</td>\n",
              "      <td>0.314334</td>\n",
              "      <td>0.265472</td>\n",
              "      <td>1.000000</td>\n",
              "    </tr>\n",
              "  </tbody>\n",
              "</table>\n",
              "</div>\n",
              "      <button class=\"colab-df-convert\" onclick=\"convertToInteractive('df-47228913-bb08-48a4-b61e-fd48f562e0e6')\"\n",
              "              title=\"Convert this dataframe to an interactive table.\"\n",
              "              style=\"display:none;\">\n",
              "        \n",
              "  <svg xmlns=\"http://www.w3.org/2000/svg\" height=\"24px\"viewBox=\"0 0 24 24\"\n",
              "       width=\"24px\">\n",
              "    <path d=\"M0 0h24v24H0V0z\" fill=\"none\"/>\n",
              "    <path d=\"M18.56 5.44l.94 2.06.94-2.06 2.06-.94-2.06-.94-.94-2.06-.94 2.06-2.06.94zm-11 1L8.5 8.5l.94-2.06 2.06-.94-2.06-.94L8.5 2.5l-.94 2.06-2.06.94zm10 10l.94 2.06.94-2.06 2.06-.94-2.06-.94-.94-2.06-.94 2.06-2.06.94z\"/><path d=\"M17.41 7.96l-1.37-1.37c-.4-.4-.92-.59-1.43-.59-.52 0-1.04.2-1.43.59L10.3 9.45l-7.72 7.72c-.78.78-.78 2.05 0 2.83L4 21.41c.39.39.9.59 1.41.59.51 0 1.02-.2 1.41-.59l7.78-7.78 2.81-2.81c.8-.78.8-2.07 0-2.86zM5.41 20L4 18.59l7.72-7.72 1.47 1.35L5.41 20z\"/>\n",
              "  </svg>\n",
              "      </button>\n",
              "      \n",
              "  <style>\n",
              "    .colab-df-container {\n",
              "      display:flex;\n",
              "      flex-wrap:wrap;\n",
              "      gap: 12px;\n",
              "    }\n",
              "\n",
              "    .colab-df-convert {\n",
              "      background-color: #E8F0FE;\n",
              "      border: none;\n",
              "      border-radius: 50%;\n",
              "      cursor: pointer;\n",
              "      display: none;\n",
              "      fill: #1967D2;\n",
              "      height: 32px;\n",
              "      padding: 0 0 0 0;\n",
              "      width: 32px;\n",
              "    }\n",
              "\n",
              "    .colab-df-convert:hover {\n",
              "      background-color: #E2EBFA;\n",
              "      box-shadow: 0px 1px 2px rgba(60, 64, 67, 0.3), 0px 1px 3px 1px rgba(60, 64, 67, 0.15);\n",
              "      fill: #174EA6;\n",
              "    }\n",
              "\n",
              "    [theme=dark] .colab-df-convert {\n",
              "      background-color: #3B4455;\n",
              "      fill: #D2E3FC;\n",
              "    }\n",
              "\n",
              "    [theme=dark] .colab-df-convert:hover {\n",
              "      background-color: #434B5C;\n",
              "      box-shadow: 0px 1px 3px 1px rgba(0, 0, 0, 0.15);\n",
              "      filter: drop-shadow(0px 1px 2px rgba(0, 0, 0, 0.3));\n",
              "      fill: #FFFFFF;\n",
              "    }\n",
              "  </style>\n",
              "\n",
              "      <script>\n",
              "        const buttonEl =\n",
              "          document.querySelector('#df-47228913-bb08-48a4-b61e-fd48f562e0e6 button.colab-df-convert');\n",
              "        buttonEl.style.display =\n",
              "          google.colab.kernel.accessAllowed ? 'block' : 'none';\n",
              "\n",
              "        async function convertToInteractive(key) {\n",
              "          const element = document.querySelector('#df-47228913-bb08-48a4-b61e-fd48f562e0e6');\n",
              "          const dataTable =\n",
              "            await google.colab.kernel.invokeFunction('convertToInteractive',\n",
              "                                                     [key], {});\n",
              "          if (!dataTable) return;\n",
              "\n",
              "          const docLinkHtml = 'Like what you see? Visit the ' +\n",
              "            '<a target=\"_blank\" href=https://colab.research.google.com/notebooks/data_table.ipynb>data table notebook</a>'\n",
              "            + ' to learn more about interactive tables.';\n",
              "          element.innerHTML = '';\n",
              "          dataTable['output_type'] = 'display_data';\n",
              "          await google.colab.output.renderOutput(dataTable, element);\n",
              "          const docLink = document.createElement('div');\n",
              "          docLink.innerHTML = docLinkHtml;\n",
              "          element.appendChild(docLink);\n",
              "        }\n",
              "      </script>\n",
              "    </div>\n",
              "  </div>\n",
              "  "
            ]
          },
          "metadata": {},
          "execution_count": 66
        }
      ]
    },
    {
      "cell_type": "markdown",
      "source": [
        "#### PCA\n",
        "There is a strong correlation between APM, LeagueIndex and between hotkey selection and APM. PCA is needed. After normalizing the dataframe and computing PCA, such that 95% of the variance is explained, 15 components are obtained"
      ],
      "metadata": {
        "id": "4sU_bbkavf9T"
      }
    },
    {
      "cell_type": "code",
      "source": [
        "df.dropna(inplace=True)\n",
        "\n",
        "dfy=df['LeagueIndex'].copy()\n",
        "# Normalize the dataframe, so that the pxa does not give too skewed results\n",
        "dfn=df/df.max()\n",
        "\n",
        "dfx=dfn.drop(columns=['LeagueIndex'])\n",
        "from sklearn.decomposition import PCA\n",
        "pcaMod = PCA(n_components=0.95)\n",
        "pcaMod.fit(dfx)\n",
        "pcaMod.explained_variance_ratio_"
      ],
      "metadata": {
        "colab": {
          "base_uri": "https://localhost:8080/"
        },
        "id": "ewoRxUCeG_h-",
        "outputId": "63381b12-0f95-4fea-8f50-7081bef48036"
      },
      "execution_count": null,
      "outputs": [
        {
          "output_type": "execute_result",
          "data": {
            "text/plain": [
              "array([0.2963108 , 0.16162127, 0.08913619, 0.06695432, 0.06404153,\n",
              "       0.05223051, 0.04372919, 0.03837509, 0.03569727, 0.03489222,\n",
              "       0.0281391 , 0.02422211, 0.01912753])"
            ]
          },
          "metadata": {},
          "execution_count": 67
        }
      ]
    },
    {
      "cell_type": "code",
      "source": [
        "pcadf=pd.DataFrame(pcaMod.components_,columns=dfn.drop(columns='LeagueIndex').columns)\n",
        "pcadf.head()\n",
        "\n",
        "X = pcaMod.transform(dfx)"
      ],
      "metadata": {
        "id": "WyiB09lnz-qo"
      },
      "execution_count": null,
      "outputs": []
    },
    {
      "cell_type": "markdown",
      "source": [
        "Using the above PCA, one can label a few of the major components.\n",
        "#### First Principal Component\n",
        "The first principal component has the defining feature of high correlation between APM, Hotkey usage (Assign to Hotkeys and Select Hotkeys), Number of PAC (Perception Action Cycle, ie seeing something and reacting to it) and a strong negative correlation with Action Latency and Gap Between PAC.\n",
        "This supports the fact that the usage of hotkeys would make unit micromanagement easier and faster. Priliminary label of this component as unit micromanagement.\n",
        "#### Second Principal Component\n",
        "The most defining features of the second principal component is its correlation of Max Time Stamp (Game Length), ComplexUnitsMade (units that require long time/tech to produce and use) and negative correlation to Unique Units Made, Unique Hotkeys and Map Explored. This is known as \"turtling\" in the game (remain defensive and create a huge army of high tech units before finally bee-lining to opponent's base)\n",
        "#### Third Principal Component\n",
        "This corresponds to the affinity to spellcasting (usually relatively high tech) units vs normal units\n",
        "#### Forth Principal Component\n",
        "Corresponds roughly to aggressiveness: correlation of APM, Select by Hotkeys, Negative correlations of Unique Units Made, Workers Made and Map Explored (could be a timing attack?)\n",
        "### K-mean\n",
        "Playstyles tend to form clusters due to their similarity, K means is employed to find these clusters. The elbow method used to determine that 5 clusters would best suit the dataset. Although the \"elbow\" is not very pronounced."
      ],
      "metadata": {
        "id": "7iLyCOYVowGg"
      }
    },
    {
      "cell_type": "code",
      "source": [
        "from sklearn.cluster import KMeans\n",
        "loss=[]\n",
        "for a in range(2,10):\n",
        "  km=KMeans(n_clusters=a).fit(dfx)\n",
        "  loss.append(km.inertia_)\n",
        "fig,ax=plt.subplots()\n",
        "ax.plot(loss)"
      ],
      "metadata": {
        "colab": {
          "base_uri": "https://localhost:8080/",
          "height": 282
        },
        "id": "du10NlVlwzS1",
        "outputId": "7dc70f55-b061-4fdc-c62e-1f2c4de46523"
      },
      "execution_count": null,
      "outputs": [
        {
          "output_type": "execute_result",
          "data": {
            "text/plain": [
              "[<matplotlib.lines.Line2D at 0x7f3bf35015d0>]"
            ]
          },
          "metadata": {},
          "execution_count": 69
        },
        {
          "output_type": "display_data",
          "data": {
            "text/plain": [
              "<Figure size 432x288 with 1 Axes>"
            ],
            "image/png": "[encoded data removed]"
          },
          "metadata": {
            "needs_background": "light"
          }
        }
      ]
    },
    {
      "cell_type": "code",
      "source": [
        "km=KMeans(n_clusters=5).fit(X)\n",
        "Xp=km.transform(X)\n",
        "Xpp=np.concatenate([Xp,X],axis=1)"
      ],
      "metadata": {
        "id": "CNRUv6APNa8q"
      },
      "execution_count": null,
      "outputs": []
    },
    {
      "cell_type": "markdown",
      "source": [
        "### Linear Regression\n",
        "We will now perform a linear regression on the characteristics of the matches and using the league as the target. Because leagues are a stand in for skill (and continuous), the use of linear regression is somewhat appropriate however, we do need to round before computing accuracy"
      ],
      "metadata": {
        "id": "153LucV_po4s"
      }
    },
    {
      "cell_type": "code",
      "source": [
        "from sklearn.linear_model import LinearRegression\n",
        "from sklearn.preprocessing import PolynomialFeatures\n",
        "from sklearn.model_selection import train_test_split\n",
        "ply = PolynomialFeatures(2,interaction_only=True)\n",
        "X=ply.fit_transform(Xpp)\n",
        "linreg=LinearRegression()\n",
        "y=dfy.values.reshape(-1,1)\n",
        "x_train,x_test,y_train,y_test=train_test_split(X,y,test_size=0.1)\n",
        "linreg.fit(x_train,y_train)"
      ],
      "metadata": {
        "colab": {
          "base_uri": "https://localhost:8080/"
        },
        "id": "da_29rZN03rs",
        "outputId": "ab1ee37f-3826-4f12-81bf-4d94c5a9d1c2"
      },
      "execution_count": null,
      "outputs": [
        {
          "output_type": "execute_result",
          "data": {
            "text/plain": [
              "LinearRegression()"
            ]
          },
          "metadata": {},
          "execution_count": 85
        }
      ]
    },
    {
      "cell_type": "code",
      "source": [
        "# Training loss\n",
        "y_pred=np.rint(linreg.predict(x_train))\n",
        "loss=y_pred-y_train\n",
        "import math\n",
        "sqloss=loss**2\n",
        "math.sqrt(sqloss.mean())\n"
      ],
      "metadata": {
        "colab": {
          "base_uri": "https://localhost:8080/"
        },
        "id": "ET29stKs-QMa",
        "outputId": "4a674737-3d5e-40f1-e74a-b77380821603"
      },
      "execution_count": null,
      "outputs": [
        {
          "output_type": "execute_result",
          "data": {
            "text/plain": [
              "0.9835531662763044"
            ]
          },
          "metadata": {},
          "execution_count": 86
        }
      ]
    },
    {
      "cell_type": "code",
      "source": [
        "# Testing Loss\n",
        "y_pred=np.rint(linreg.predict(x_test))\n",
        "loss=y_pred-y_test\n",
        "import math\n",
        "sqloss=loss**2\n",
        "math.sqrt(sqloss.mean())"
      ],
      "metadata": {
        "colab": {
          "base_uri": "https://localhost:8080/"
        },
        "id": "jMSm_ZNnDi9b",
        "outputId": "b5451c1d-b4a4-487c-9b4f-e025939de295"
      },
      "execution_count": null,
      "outputs": [
        {
          "output_type": "execute_result",
          "data": {
            "text/plain": [
              "0.9970014925003393"
            ]
          },
          "metadata": {},
          "execution_count": 87
        }
      ]
    },
    {
      "cell_type": "markdown",
      "source": [
        "The training and testing root-mean-square errors are similar, and they are within 1. This means that our model is performing rather well, considering that league placements in game are fluid, and players may fluctuate between leagues rather quickly."
      ],
      "metadata": {
        "id": "GKGqTYZH-Pol"
      }
    }
  ]
}